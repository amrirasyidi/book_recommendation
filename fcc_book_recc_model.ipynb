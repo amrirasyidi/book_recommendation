{
 "cells": [
  {
   "cell_type": "markdown",
   "metadata": {},
   "source": [
    "# What Can You Expect In this Notebook?"
   ]
  },
  {
   "cell_type": "markdown",
   "metadata": {},
   "source": [
    "## Goals\n",
    "1. Create a collaborative filtering feature\n",
    "1. Make book clustering"
   ]
  },
  {
   "cell_type": "code",
   "execution_count": 4,
   "metadata": {},
   "outputs": [],
   "source": [
    "# import libraries (you may add additional imports but you may not have to)\n",
    "import logging\n",
    "logging.captureWarnings(True)\n",
    "\n",
    "import numpy as np\n",
    "import pandas as pd\n",
    "pd.set_option('display.max_colwidth', None)\n",
    "from scipy.sparse import coo_matrix\n",
    "from scipy.sparse import csr_matrix\n",
    "\n",
    "#viz lib\n",
    "import matplotlib.pyplot as plt\n",
    "plt.style.use('fivethirtyeight')\n",
    "import seaborn as sns\n",
    "\n",
    "#to scale the data using z-score\n",
    "from sklearn.preprocessing import StandardScaler\n",
    "\n",
    "#Importing PCA\n",
    "from sklearn.decomposition import PCA\n",
    "\n",
    "#\n",
    "from surprise import Reader"
   ]
  },
  {
   "cell_type": "code",
   "execution_count": 5,
   "metadata": {},
   "outputs": [],
   "source": [
    "df = pd.read_csv(\"data/clean_data.csv\")"
   ]
  },
  {
   "cell_type": "code",
   "execution_count": 6,
   "metadata": {},
   "outputs": [
    {
     "data": {
      "text/html": [
       "<div>\n",
       "<style scoped>\n",
       "    .dataframe tbody tr th:only-of-type {\n",
       "        vertical-align: middle;\n",
       "    }\n",
       "\n",
       "    .dataframe tbody tr th {\n",
       "        vertical-align: top;\n",
       "    }\n",
       "\n",
       "    .dataframe thead th {\n",
       "        text-align: right;\n",
       "    }\n",
       "</style>\n",
       "<table border=\"1\" class=\"dataframe\">\n",
       "  <thead>\n",
       "    <tr style=\"text-align: right;\">\n",
       "      <th></th>\n",
       "      <th>Unnamed: 0</th>\n",
       "      <th>isbn</th>\n",
       "      <th>book_title</th>\n",
       "      <th>book_author</th>\n",
       "      <th>year_of_publication</th>\n",
       "      <th>publisher</th>\n",
       "      <th>mod_title</th>\n",
       "      <th>user_id</th>\n",
       "      <th>book_rating</th>\n",
       "      <th>location</th>\n",
       "      <th>age</th>\n",
       "      <th>isbn_index</th>\n",
       "    </tr>\n",
       "  </thead>\n",
       "  <tbody>\n",
       "    <tr>\n",
       "      <th>0</th>\n",
       "      <td>0</td>\n",
       "      <td>0195153448</td>\n",
       "      <td>Classical Mythology</td>\n",
       "      <td>Mark P. O. Morford</td>\n",
       "      <td>2002</td>\n",
       "      <td>Oxford University Press</td>\n",
       "      <td>classical mythology</td>\n",
       "      <td>2.0</td>\n",
       "      <td>0.0</td>\n",
       "      <td>stockton, california, usa</td>\n",
       "      <td>18.0</td>\n",
       "      <td>24927</td>\n",
       "    </tr>\n",
       "    <tr>\n",
       "      <th>1</th>\n",
       "      <td>1</td>\n",
       "      <td>0002005018</td>\n",
       "      <td>Clara Callan</td>\n",
       "      <td>Richard Bruce Wright</td>\n",
       "      <td>2001</td>\n",
       "      <td>HarperFlamingo Canada</td>\n",
       "      <td>clara callan</td>\n",
       "      <td>8.0</td>\n",
       "      <td>5.0</td>\n",
       "      <td>timmins, ontario, canada</td>\n",
       "      <td>24.0</td>\n",
       "      <td>73</td>\n",
       "    </tr>\n",
       "    <tr>\n",
       "      <th>2</th>\n",
       "      <td>2</td>\n",
       "      <td>0002005018</td>\n",
       "      <td>Clara Callan</td>\n",
       "      <td>Richard Bruce Wright</td>\n",
       "      <td>2001</td>\n",
       "      <td>HarperFlamingo Canada</td>\n",
       "      <td>clara callan</td>\n",
       "      <td>11400.0</td>\n",
       "      <td>0.0</td>\n",
       "      <td>ottawa, ontario, canada</td>\n",
       "      <td>49.0</td>\n",
       "      <td>73</td>\n",
       "    </tr>\n",
       "    <tr>\n",
       "      <th>3</th>\n",
       "      <td>3</td>\n",
       "      <td>0002005018</td>\n",
       "      <td>Clara Callan</td>\n",
       "      <td>Richard Bruce Wright</td>\n",
       "      <td>2001</td>\n",
       "      <td>HarperFlamingo Canada</td>\n",
       "      <td>clara callan</td>\n",
       "      <td>11676.0</td>\n",
       "      <td>8.0</td>\n",
       "      <td>n/a, n/a, n/a</td>\n",
       "      <td>24.0</td>\n",
       "      <td>73</td>\n",
       "    </tr>\n",
       "    <tr>\n",
       "      <th>4</th>\n",
       "      <td>4</td>\n",
       "      <td>0002005018</td>\n",
       "      <td>Clara Callan</td>\n",
       "      <td>Richard Bruce Wright</td>\n",
       "      <td>2001</td>\n",
       "      <td>HarperFlamingo Canada</td>\n",
       "      <td>clara callan</td>\n",
       "      <td>41385.0</td>\n",
       "      <td>0.0</td>\n",
       "      <td>sudbury, ontario, canada</td>\n",
       "      <td>24.0</td>\n",
       "      <td>73</td>\n",
       "    </tr>\n",
       "  </tbody>\n",
       "</table>\n",
       "</div>"
      ],
      "text/plain": [
       "   Unnamed: 0        isbn           book_title           book_author  \\\n",
       "0           0  0195153448  Classical Mythology    Mark P. O. Morford   \n",
       "1           1  0002005018         Clara Callan  Richard Bruce Wright   \n",
       "2           2  0002005018         Clara Callan  Richard Bruce Wright   \n",
       "3           3  0002005018         Clara Callan  Richard Bruce Wright   \n",
       "4           4  0002005018         Clara Callan  Richard Bruce Wright   \n",
       "\n",
       "   year_of_publication                publisher            mod_title  user_id  \\\n",
       "0                 2002  Oxford University Press  classical mythology      2.0   \n",
       "1                 2001    HarperFlamingo Canada         clara callan      8.0   \n",
       "2                 2001    HarperFlamingo Canada         clara callan  11400.0   \n",
       "3                 2001    HarperFlamingo Canada         clara callan  11676.0   \n",
       "4                 2001    HarperFlamingo Canada         clara callan  41385.0   \n",
       "\n",
       "   book_rating                   location   age  isbn_index  \n",
       "0          0.0  stockton, california, usa  18.0       24927  \n",
       "1          5.0   timmins, ontario, canada  24.0          73  \n",
       "2          0.0    ottawa, ontario, canada  49.0          73  \n",
       "3          8.0              n/a, n/a, n/a  24.0          73  \n",
       "4          0.0   sudbury, ontario, canada  24.0          73  "
      ]
     },
     "execution_count": 6,
     "metadata": {},
     "output_type": "execute_result"
    }
   ],
   "source": [
    "df[\"isbn_index\"] = df[\"isbn\"].astype(\"category\").cat.codes\n",
    "\n",
    "df.head()"
   ]
  },
  {
   "cell_type": "markdown",
   "metadata": {},
   "source": [
    "## Advice from freeCodeCamp\n",
    "https://www.freecodecamp.org/learn/machine-learning-with-python/machine-learning-with-python-projects/book-recommendation-engine-using-knn<br>\n",
    "If you graph the dataset (optional), you will notice that most books are not rated frequently. To ensure statistical significance, remove from the dataset users with less than 200 ratings and books with less than 100 ratings."
   ]
  },
  {
   "cell_type": "code",
   "execution_count": 7,
   "metadata": {},
   "outputs": [],
   "source": [
    "# Find how many books have each users read\n",
    "user_stat = pd.pivot_table(\n",
    "    data = df,\n",
    "    values = 'book_title',\n",
    "    index = 'user_id',\n",
    "    aggfunc= 'count'\n",
    ").reset_index()"
   ]
  },
  {
   "cell_type": "code",
   "execution_count": 8,
   "metadata": {},
   "outputs": [
    {
     "data": {
      "text/html": [
       "<div>\n",
       "<style scoped>\n",
       "    .dataframe tbody tr th:only-of-type {\n",
       "        vertical-align: middle;\n",
       "    }\n",
       "\n",
       "    .dataframe tbody tr th {\n",
       "        vertical-align: top;\n",
       "    }\n",
       "\n",
       "    .dataframe thead th {\n",
       "        text-align: right;\n",
       "    }\n",
       "</style>\n",
       "<table border=\"1\" class=\"dataframe\">\n",
       "  <thead>\n",
       "    <tr style=\"text-align: right;\">\n",
       "      <th></th>\n",
       "      <th>user_id</th>\n",
       "      <th>book_title</th>\n",
       "    </tr>\n",
       "  </thead>\n",
       "  <tbody>\n",
       "    <tr>\n",
       "      <th>0</th>\n",
       "      <td>2.0</td>\n",
       "      <td>1</td>\n",
       "    </tr>\n",
       "    <tr>\n",
       "      <th>1</th>\n",
       "      <td>8.0</td>\n",
       "      <td>17</td>\n",
       "    </tr>\n",
       "    <tr>\n",
       "      <th>2</th>\n",
       "      <td>9.0</td>\n",
       "      <td>3</td>\n",
       "    </tr>\n",
       "    <tr>\n",
       "      <th>3</th>\n",
       "      <td>10.0</td>\n",
       "      <td>1</td>\n",
       "    </tr>\n",
       "    <tr>\n",
       "      <th>4</th>\n",
       "      <td>12.0</td>\n",
       "      <td>1</td>\n",
       "    </tr>\n",
       "  </tbody>\n",
       "</table>\n",
       "</div>"
      ],
      "text/plain": [
       "   user_id  book_title\n",
       "0      2.0           1\n",
       "1      8.0          17\n",
       "2      9.0           3\n",
       "3     10.0           1\n",
       "4     12.0           1"
      ]
     },
     "execution_count": 8,
     "metadata": {},
     "output_type": "execute_result"
    }
   ],
   "source": [
    "user_stat.head()"
   ]
  },
  {
   "cell_type": "code",
   "execution_count": 74,
   "metadata": {},
   "outputs": [
    {
     "data": {
      "text/plain": [
       "<AxesSubplot:xlabel='book_title', ylabel='Density'>"
      ]
     },
     "execution_count": 74,
     "metadata": {},
     "output_type": "execute_result"
    },
    {
     "data": {
      "image/png": "[encoded data removed]",
      "text/plain": [
       "<Figure size 432x288 with 1 Axes>"
      ]
     },
     "metadata": {
      "needs_background": "light"
     },
     "output_type": "display_data"
    }
   ],
   "source": [
    "sns.kdeplot(\n",
    "    data = user_stat['book_title'],\n",
    "    # orient='h'\n",
    ")"
   ]
  },
  {
   "cell_type": "code",
   "execution_count": 31,
   "metadata": {},
   "outputs": [],
   "source": [
    "# Find how many books have each users read\n",
    "book_stat = pd.pivot_table(\n",
    "    data = df,\n",
    "    values = 'book_rating',\n",
    "    index = 'isbn',\n",
    "    aggfunc= 'count'\n",
    ").reset_index().rename(columns = {\"book_rating\":\"total_like\"})\n",
    "\n",
    "temp = pd.pivot_table(\n",
    "    data = df[df['book_rating']!=0],\n",
    "    values = 'book_rating',\n",
    "    index = 'isbn',\n",
    "    aggfunc= np.mean\n",
    ").reset_index().rename(columns = {\"book_rating\":\"average_rating\"})\n",
    "\n",
    "book_stat = book_stat.merge(temp, how = 'left', on = 'isbn').fillna(0)"
   ]
  },
  {
   "cell_type": "code",
   "execution_count": 77,
   "metadata": {},
   "outputs": [
    {
     "data": {
      "text/plain": [
       "<AxesSubplot:xlabel='book_rating', ylabel='Density'>"
      ]
     },
     "execution_count": 77,
     "metadata": {},
     "output_type": "execute_result"
    },
    {
     "data": {
      "image/png": "[encoded data removed]",
      "text/plain": [
       "<Figure size 432x288 with 1 Axes>"
      ]
     },
     "metadata": {
      "needs_background": "light"
     },
     "output_type": "display_data"
    }
   ],
   "source": [
    "sns.kdeplot(\n",
    "    data = book_stat['book_rating'],\n",
    "    # orient='h'\n",
    ")"
   ]
  },
  {
   "cell_type": "code",
   "execution_count": 42,
   "metadata": {},
   "outputs": [
    {
     "data": {
      "text/plain": [
       "87          254\n",
       "698        2276\n",
       "862        2766\n",
       "919        2977\n",
       "1033       3363\n",
       "          ...  \n",
       "90586    274308\n",
       "91111    275970\n",
       "91563    277427\n",
       "91638    277639\n",
       "91951    278418\n",
       "Name: user_id, Length: 816, dtype: int32"
      ]
     },
     "execution_count": 42,
     "metadata": {},
     "output_type": "execute_result"
    }
   ],
   "source": [
    "used_user = user_stat[user_stat['book_title']>=200]['user_id'].astype('int')\n",
    "used_user"
   ]
  },
  {
   "cell_type": "code",
   "execution_count": 43,
   "metadata": {},
   "outputs": [
    {
     "data": {
      "text/plain": [
       "1759      002542730X\n",
       "3219      0060008032\n",
       "3484      0060096195\n",
       "3989      006016848X\n",
       "4122      0060173289\n",
       "             ...    \n",
       "230080    1573227331\n",
       "230142    1573229326\n",
       "230152    1573229571\n",
       "235748    1592400876\n",
       "240805    1878424319\n",
       "Name: isbn, Length: 727, dtype: object"
      ]
     },
     "execution_count": 43,
     "metadata": {},
     "output_type": "execute_result"
    }
   ],
   "source": [
    "used_book = book_stat[book_stat['total_like']>=100]['isbn']\n",
    "used_book"
   ]
  },
  {
   "cell_type": "code",
   "execution_count": 45,
   "metadata": {},
   "outputs": [
    {
     "data": {
      "text/html": [
       "<div>\n",
       "<style scoped>\n",
       "    .dataframe tbody tr th:only-of-type {\n",
       "        vertical-align: middle;\n",
       "    }\n",
       "\n",
       "    .dataframe tbody tr th {\n",
       "        vertical-align: top;\n",
       "    }\n",
       "\n",
       "    .dataframe thead th {\n",
       "        text-align: right;\n",
       "    }\n",
       "</style>\n",
       "<table border=\"1\" class=\"dataframe\">\n",
       "  <thead>\n",
       "    <tr style=\"text-align: right;\">\n",
       "      <th></th>\n",
       "      <th>Unnamed: 0</th>\n",
       "      <th>isbn</th>\n",
       "      <th>book_title</th>\n",
       "      <th>book_author</th>\n",
       "      <th>year_of_publication</th>\n",
       "      <th>publisher</th>\n",
       "      <th>mod_title</th>\n",
       "      <th>user_id</th>\n",
       "      <th>book_rating</th>\n",
       "      <th>location</th>\n",
       "      <th>age</th>\n",
       "      <th>isbn_index</th>\n",
       "    </tr>\n",
       "  </thead>\n",
       "  <tbody>\n",
       "    <tr>\n",
       "      <th>0</th>\n",
       "      <td>0</td>\n",
       "      <td>0195153448</td>\n",
       "      <td>Classical Mythology</td>\n",
       "      <td>Mark P. O. Morford</td>\n",
       "      <td>2002</td>\n",
       "      <td>Oxford University Press</td>\n",
       "      <td>classical mythology</td>\n",
       "      <td>2.0</td>\n",
       "      <td>0.0</td>\n",
       "      <td>stockton, california, usa</td>\n",
       "      <td>18.0</td>\n",
       "      <td>24927</td>\n",
       "    </tr>\n",
       "    <tr>\n",
       "      <th>1</th>\n",
       "      <td>1</td>\n",
       "      <td>0002005018</td>\n",
       "      <td>Clara Callan</td>\n",
       "      <td>Richard Bruce Wright</td>\n",
       "      <td>2001</td>\n",
       "      <td>HarperFlamingo Canada</td>\n",
       "      <td>clara callan</td>\n",
       "      <td>8.0</td>\n",
       "      <td>5.0</td>\n",
       "      <td>timmins, ontario, canada</td>\n",
       "      <td>24.0</td>\n",
       "      <td>73</td>\n",
       "    </tr>\n",
       "    <tr>\n",
       "      <th>2</th>\n",
       "      <td>2</td>\n",
       "      <td>0002005018</td>\n",
       "      <td>Clara Callan</td>\n",
       "      <td>Richard Bruce Wright</td>\n",
       "      <td>2001</td>\n",
       "      <td>HarperFlamingo Canada</td>\n",
       "      <td>clara callan</td>\n",
       "      <td>11400.0</td>\n",
       "      <td>0.0</td>\n",
       "      <td>ottawa, ontario, canada</td>\n",
       "      <td>49.0</td>\n",
       "      <td>73</td>\n",
       "    </tr>\n",
       "    <tr>\n",
       "      <th>3</th>\n",
       "      <td>3</td>\n",
       "      <td>0002005018</td>\n",
       "      <td>Clara Callan</td>\n",
       "      <td>Richard Bruce Wright</td>\n",
       "      <td>2001</td>\n",
       "      <td>HarperFlamingo Canada</td>\n",
       "      <td>clara callan</td>\n",
       "      <td>11676.0</td>\n",
       "      <td>8.0</td>\n",
       "      <td>n/a, n/a, n/a</td>\n",
       "      <td>24.0</td>\n",
       "      <td>73</td>\n",
       "    </tr>\n",
       "    <tr>\n",
       "      <th>4</th>\n",
       "      <td>4</td>\n",
       "      <td>0002005018</td>\n",
       "      <td>Clara Callan</td>\n",
       "      <td>Richard Bruce Wright</td>\n",
       "      <td>2001</td>\n",
       "      <td>HarperFlamingo Canada</td>\n",
       "      <td>clara callan</td>\n",
       "      <td>41385.0</td>\n",
       "      <td>0.0</td>\n",
       "      <td>sudbury, ontario, canada</td>\n",
       "      <td>24.0</td>\n",
       "      <td>73</td>\n",
       "    </tr>\n",
       "  </tbody>\n",
       "</table>\n",
       "</div>"
      ],
      "text/plain": [
       "   Unnamed: 0        isbn           book_title           book_author  \\\n",
       "0           0  0195153448  Classical Mythology    Mark P. O. Morford   \n",
       "1           1  0002005018         Clara Callan  Richard Bruce Wright   \n",
       "2           2  0002005018         Clara Callan  Richard Bruce Wright   \n",
       "3           3  0002005018         Clara Callan  Richard Bruce Wright   \n",
       "4           4  0002005018         Clara Callan  Richard Bruce Wright   \n",
       "\n",
       "   year_of_publication                publisher            mod_title  user_id  \\\n",
       "0                 2002  Oxford University Press  classical mythology      2.0   \n",
       "1                 2001    HarperFlamingo Canada         clara callan      8.0   \n",
       "2                 2001    HarperFlamingo Canada         clara callan  11400.0   \n",
       "3                 2001    HarperFlamingo Canada         clara callan  11676.0   \n",
       "4                 2001    HarperFlamingo Canada         clara callan  41385.0   \n",
       "\n",
       "   book_rating                   location   age  isbn_index  \n",
       "0          0.0  stockton, california, usa  18.0       24927  \n",
       "1          5.0   timmins, ontario, canada  24.0          73  \n",
       "2          0.0    ottawa, ontario, canada  49.0          73  \n",
       "3          8.0              n/a, n/a, n/a  24.0          73  \n",
       "4          0.0   sudbury, ontario, canada  24.0          73  "
      ]
     },
     "execution_count": 45,
     "metadata": {},
     "output_type": "execute_result"
    }
   ],
   "source": [
    "df.head()"
   ]
  },
  {
   "cell_type": "code",
   "execution_count": 52,
   "metadata": {},
   "outputs": [],
   "source": [
    "#User-Book matrix\n",
    "user_book_df = pd.pivot_table(\n",
    "    data = df[(df['isbn'].isin(used_book)) & (df['user_id'].isin(used_user))],\n",
    "    index=\"user_id\", \n",
    "    columns=\"isbn_index\", \n",
    "    values=[\"book_rating\"]\n",
    "    )\n",
    "\n",
    "user_book_df += 1\n",
    "\n",
    "user_book_df.fillna(0, inplace = True)"
   ]
  },
  {
   "cell_type": "code",
   "execution_count": 53,
   "metadata": {},
   "outputs": [],
   "source": [
    "user_book_sparse = csr_matrix(user_book_df.values)"
   ]
  },
  {
   "cell_type": "code",
   "execution_count": 49,
   "metadata": {},
   "outputs": [],
   "source": [
    "from sklearn.metrics.pairwise import cosine_similarity"
   ]
  },
  {
   "cell_type": "code",
   "execution_count": 54,
   "metadata": {},
   "outputs": [],
   "source": [
    "similarity_scores = cosine_similarity(user_book_sparse)"
   ]
  },
  {
   "cell_type": "code",
   "execution_count": 55,
   "metadata": {},
   "outputs": [
    {
     "data": {
      "text/plain": [
       "(812, 812)"
      ]
     },
     "execution_count": 55,
     "metadata": {},
     "output_type": "execute_result"
    }
   ],
   "source": [
    "similarity_scores.shape"
   ]
  },
  {
   "cell_type": "code",
   "execution_count": 56,
   "metadata": {},
   "outputs": [
    {
     "data": {
      "text/plain": [
       "<812x727 sparse matrix of type '<class 'numpy.float64'>'\n",
       "\twith 48358 stored elements in Compressed Sparse Row format>"
      ]
     },
     "execution_count": 56,
     "metadata": {},
     "output_type": "execute_result"
    }
   ],
   "source": [
    "user_book_sparse"
   ]
  },
  {
   "cell_type": "code",
   "execution_count": null,
   "metadata": {},
   "outputs": [],
   "source": [
    "'0002005018'\n",
    "def recommend(isbn):\n",
    "    # index fetch\n",
    "    index = np.where(user_book_sparse.column==isbn)[0][0]\n",
    "    similar_items = sorted(list(enumerate(similarity_scores[index])),key=lambda x:x[1],reverse=True)[1:5]\n",
    "    \n",
    "    data = []\n",
    "    for i in similar_items:\n",
    "        item = []\n",
    "        temp_df = books[books['Book-Title'] == pt.index[i[0]]]\n",
    "        item.extend(list(temp_df.drop_duplicates('Book-Title')['Book-Title'].values))\n",
    "        item.extend(list(temp_df.drop_duplicates('Book-Title')['Book-Author'].values))\n",
    "        item.extend(list(temp_df.drop_duplicates('Book-Title')['Image-URL-M'].values))\n",
    "        \n",
    "        data.append(item)\n",
    "    \n",
    "    return data"
   ]
  },
  {
   "cell_type": "code",
   "execution_count": 81,
   "metadata": {},
   "outputs": [
    {
     "data": {
      "text/plain": [
       "user_id\n",
       "165308.0    10.0\n",
       "255092.0    10.0\n",
       "201017.0    10.0\n",
       "257204.0    10.0\n",
       "11676.0      9.0\n",
       "            ... \n",
       "274061.0     NaN\n",
       "274308.0     NaN\n",
       "275970.0     NaN\n",
       "277427.0     NaN\n",
       "277639.0     NaN\n",
       "Name: 3989, Length: 812, dtype: float64"
      ]
     },
     "execution_count": 81,
     "metadata": {},
     "output_type": "execute_result"
    }
   ],
   "source": [
    "#We chose a book\n",
    "book_name=3989\n",
    "\n",
    "book_name=user_book_df[book_name]\n",
    "book_name.sort_values(ascending=False)"
   ]
  },
  {
   "cell_type": "code",
   "execution_count": 82,
   "metadata": {},
   "outputs": [
    {
     "data": {
      "text/plain": [
       "isbn_index\n",
       "70831     1.0\n",
       "150437    1.0\n",
       "93659     1.0\n",
       "38568     1.0\n",
       "93788     1.0\n",
       "dtype: float64"
      ]
     },
     "execution_count": 82,
     "metadata": {},
     "output_type": "execute_result"
    }
   ],
   "source": [
    "user_book_df.corrwith(book_name).sort_values(ascending=False).head()"
   ]
  },
  {
   "cell_type": "code",
   "execution_count": 83,
   "metadata": {},
   "outputs": [
    {
     "data": {
      "text/plain": [
       "[70831, 150437, 93659, 38568, 93788]"
      ]
     },
     "execution_count": 83,
     "metadata": {},
     "output_type": "execute_result"
    }
   ],
   "source": [
    "rec_book=user_book_df.corrwith(book_name).sort_values(ascending=False).head()\n",
    "rec_book_list=list(rec_book.index)\n",
    "\n",
    "rec_book_list"
   ]
  },
  {
   "cell_type": "code",
   "execution_count": 86,
   "metadata": {},
   "outputs": [
    {
     "data": {
      "text/html": [
       "<div>\n",
       "<style scoped>\n",
       "    .dataframe tbody tr th:only-of-type {\n",
       "        vertical-align: middle;\n",
       "    }\n",
       "\n",
       "    .dataframe tbody tr th {\n",
       "        vertical-align: top;\n",
       "    }\n",
       "\n",
       "    .dataframe thead th {\n",
       "        text-align: right;\n",
       "    }\n",
       "</style>\n",
       "<table border=\"1\" class=\"dataframe\">\n",
       "  <thead>\n",
       "    <tr style=\"text-align: right;\">\n",
       "      <th></th>\n",
       "      <th>isbn_index</th>\n",
       "      <th>book_title</th>\n",
       "      <th>book_author</th>\n",
       "    </tr>\n",
       "  </thead>\n",
       "  <tbody>\n",
       "    <tr>\n",
       "      <th>69691</th>\n",
       "      <td>70831</td>\n",
       "      <td>Skipping Christmas</td>\n",
       "      <td>John Grisham</td>\n",
       "    </tr>\n",
       "    <tr>\n",
       "      <th>150097</th>\n",
       "      <td>38568</td>\n",
       "      <td>1st to Die: A Novel</td>\n",
       "      <td>James Patterson</td>\n",
       "    </tr>\n",
       "    <tr>\n",
       "      <th>188474</th>\n",
       "      <td>93788</td>\n",
       "      <td>The Virgin Suicides</td>\n",
       "      <td>Jeffrey Eugenides</td>\n",
       "    </tr>\n",
       "    <tr>\n",
       "      <th>236969</th>\n",
       "      <td>93659</td>\n",
       "      <td>Last Man Standing</td>\n",
       "      <td>David Baldacci</td>\n",
       "    </tr>\n",
       "    <tr>\n",
       "      <th>255424</th>\n",
       "      <td>150437</td>\n",
       "      <td>Ahab's Wife: Or, The Star-Gazer: A Novel</td>\n",
       "      <td>Sena Jeter Naslund</td>\n",
       "    </tr>\n",
       "  </tbody>\n",
       "</table>\n",
       "</div>"
      ],
      "text/plain": [
       "        isbn_index                                book_title  \\\n",
       "69691        70831                        Skipping Christmas   \n",
       "150097       38568                       1st to Die: A Novel   \n",
       "188474       93788                       The Virgin Suicides   \n",
       "236969       93659                         Last Man Standing   \n",
       "255424      150437  Ahab's Wife: Or, The Star-Gazer: A Novel   \n",
       "\n",
       "               book_author  \n",
       "69691         John Grisham  \n",
       "150097     James Patterson  \n",
       "188474   Jeffrey Eugenides  \n",
       "236969      David Baldacci  \n",
       "255424  Sena Jeter Naslund  "
      ]
     },
     "execution_count": 86,
     "metadata": {},
     "output_type": "execute_result"
    }
   ],
   "source": [
    "#Authors of 5 books we recommend\n",
    "df_author=df[[\"isbn_index\",\"book_title\",\"book_author\"]]\n",
    "df_author.head()\n",
    "\n",
    "df1 = df_author.loc[df_author[\"isbn_index\"].isin(rec_book_list)]\n",
    "\n",
    "df2=df1.drop_duplicates(subset=[\"book_author\",\"book_author\"], keep=\"first\")\n",
    "df2"
   ]
  },
  {
   "cell_type": "code",
   "execution_count": null,
   "metadata": {},
   "outputs": [],
   "source": []
  }
 ],
 "metadata": {
  "kernelspec": {
   "display_name": "Python 3.9.12 (conda)",
   "language": "python",
   "name": "python3"
  },
  "language_info": {
   "codemirror_mode": {
    "name": "ipython",
    "version": 3
   },
   "file_extension": ".py",
   "mimetype": "text/x-python",
   "name": "python",
   "nbconvert_exporter": "python",
   "pygments_lexer": "ipython3",
   "version": "3.9.13"
  },
  "orig_nbformat": 4,
  "vscode": {
   "interpreter": {
    "hash": "8be38c2fbad19d017fc2c247730dbb4a9fae72c596c13558eb6beecdc61a8996"
   }
  }
 },
 "nbformat": 4,
 "nbformat_minor": 2
}
