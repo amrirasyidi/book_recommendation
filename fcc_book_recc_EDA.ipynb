{
 "cells": [
  {
   "cell_type": "markdown",
   "id": "15ea4020",
   "metadata": {},
   "source": [
    "# Introduction\n",
    "\n",
    "In this project, we will create a web app for book recommendation using machine learning algorithm.\n",
    "\n",
    "We will be using the dataset from Kaggle: [Book Recommendation Dataset](https://www.kaggle.com/datasets/arashnic/book-recommendation-dataset?datasetId=1004280)"
   ]
  },
  {
   "cell_type": "markdown",
   "id": "1b322586",
   "metadata": {},
   "source": [
    "## Goals\n",
    "By the end of this project, we will create a web app with the following features:\n",
    "1. \"Similar book\" feature\n",
    "1. \"People also read\" feature\n",
    "\n",
    "## Steps\n",
    "This project will go through\n",
    "1. Preparing the GitHub repository\n",
    "1. Data preparation\n",
    "    1. Data Cleaning\n",
    "    1. Exploratory Data Analysis (EDA)\n",
    "    1. Feature engineering\n",
    "    1. Feature selection\n",
    "1. Creating the model\n",
    "    1. Model training\n",
    "    1. Model assessment\n",
    "    1. Model serialization (to make the model reusable in the web app)\n",
    "1. Setting up the web app\n",
    "    1. Flask\n",
    "    1. Streamlit\n",
    "    1. Running and testing the web app (postman)\n",
    "1. Web app deployment\n",
    "    1. Heroku\n",
    "    1. Dockers\n",
    "    \n",
    "## Tools\n",
    "\n",
    "## Sources\n",
    "1. [Krish Naik's End To End Machine Learning Project Implementation With Dockers,Github Actions And Deployment](https://www.youtube.com/watch?v=MJ1vWb1rGwM)\n",
    "1. Kaggle\n",
    "    1. [[Data]Book Recommendation Dataset](https://www.kaggle.com/datasets/arashnic/book-recommendation-dataset?datasetId=1004280)\n",
    "    1. [[Notebook]Book_Item-Based Collaborative Filtering](https://www.kaggle.com/code/sebnemgurek/book-item-based-collaborative-filtering)\n",
    "    1. [[Notebook]Book Recommendation System](https://www.kaggle.com/code/fahadmehfoooz/book-recommendation-system)\n",
    "1. [Additional: How to Build a Book Recommendation System](https://www.analyticsvidhya.com/blog/2021/06/build-book-recommendation-system-unsupervised-learning-project/)\n",
    "1. Additional\n",
    "    1. [Rpubs: PCA and Linear Regression](https://rpubs.com/esobolewska/pcr-step-by-step#:~:text=PCA%20in%20linear%20regression%20has,with%20Partial%20Least%20Squares%20Regression.)\n",
    "    1. [Stat SE: PCA vs Linear Regression](https://stats.stackexchange.com/questions/410516/using-pca-vs-linear-regression)\n",
    "    1. [Statology: PCRegression](https://www.statology.org/principal-components-regression-in-python/)"
   ]
  },
  {
   "cell_type": "markdown",
   "id": "5caad407",
   "metadata": {},
   "source": [
    "# What Can You Expect In this Notebook?"
   ]
  },
  {
   "cell_type": "markdown",
   "id": "88ef9c28",
   "metadata": {},
   "source": [
    "## Goals\n",
    "1. Data preparation\n",
    "1. EDA\n",
    "\n",
    "## Steps\n",
    "In this notebook we will do the following:\n",
    "1. Data cleaning\n",
    "1. EDA of each dataset\n",
    "1. Feature engineering\n",
    "1. Feature selection\n",
    "    1. \"Manual\" feature selection\n",
    "    1. PCA\n",
    "    1. t-SNE(?)"
   ]
  },
  {
   "cell_type": "code",
   "execution_count": null,
   "id": "525b4e56",
   "metadata": {},
   "outputs": [],
   "source": []
  },
  {
   "cell_type": "code",
   "execution_count": null,
   "id": "88c0b7bb",
   "metadata": {},
   "outputs": [],
   "source": [
    "import logging\n",
    "logging.captureWarnings(True)\n",
    "\n",
    "# import libraries (you may add additional imports but you may not have to)\n",
    "import numpy as np\n",
    "import pandas as pd\n",
    "from scipy.sparse import csr_matrix\n",
    "\n",
    "#viz lib\n",
    "import matplotlib.pyplot as plt\n",
    "plt.style.use('fivethirtyeight')\n",
    "import seaborn as sns\n",
    "\n",
    "#to scale the data using z-score\n",
    "from sklearn.preprocessing import StandardScaler\n",
    "\n",
    "#Importing PCA\n",
    "from sklearn.decomposition import PCA"
   ]
  },
  {
   "cell_type": "code",
   "execution_count": null,
   "id": "0dea263f",
   "metadata": {},
   "outputs": [],
   "source": []
  }
 ],
 "metadata": {
  "kernelspec": {
   "display_name": "Python 3 (ipykernel)",
   "language": "python",
   "name": "python3"
  },
  "language_info": {
   "codemirror_mode": {
    "name": "ipython",
    "version": 3
   },
   "file_extension": ".py",
   "mimetype": "text/x-python",
   "name": "python",
   "nbconvert_exporter": "python",
   "pygments_lexer": "ipython3",
   "version": "3.9.12"
  }
 },
 "nbformat": 4,
 "nbformat_minor": 5
}
