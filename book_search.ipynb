{
 "cells": [
  {
   "cell_type": "markdown",
   "metadata": {},
   "source": [
    "### Notebook purpose\n",
    "To create a search engine for our list of books, so our recommendation page wont have to require the exact title of the book and more user friendly. <br>\n",
    "User then will be directed to use the `isbn_index` in our recommendation system to find the similar books."
   ]
  },
  {
   "cell_type": "code",
   "execution_count": 49,
   "metadata": {},
   "outputs": [],
   "source": [
    "import logging\n",
    "logging.captureWarnings(True)\n",
    "\n",
    "import numpy as np\n",
    "import pandas as pd\n",
    "\n",
    "import pickle\n",
    "import re\n",
    "\n",
    "from sklearn.feature_extraction.text import TfidfVectorizer\n",
    "\n",
    "from sklearn.metrics.pairwise import cosine_similarity"
   ]
  },
  {
   "cell_type": "code",
   "execution_count": 44,
   "metadata": {},
   "outputs": [
    {
     "data": {
      "text/html": [
       "<div>\n",
       "<style scoped>\n",
       "    .dataframe tbody tr th:only-of-type {\n",
       "        vertical-align: middle;\n",
       "    }\n",
       "\n",
       "    .dataframe tbody tr th {\n",
       "        vertical-align: top;\n",
       "    }\n",
       "\n",
       "    .dataframe thead th {\n",
       "        text-align: right;\n",
       "    }\n",
       "</style>\n",
       "<table border=\"1\" class=\"dataframe\">\n",
       "  <thead>\n",
       "    <tr style=\"text-align: right;\">\n",
       "      <th></th>\n",
       "      <th>Unnamed: 0</th>\n",
       "      <th>isbn</th>\n",
       "      <th>book_title</th>\n",
       "      <th>book_author</th>\n",
       "      <th>year_of_publication</th>\n",
       "      <th>publisher</th>\n",
       "      <th>mod_title</th>\n",
       "      <th>user_id</th>\n",
       "      <th>book_rating</th>\n",
       "      <th>location</th>\n",
       "      <th>age</th>\n",
       "      <th>isbn_index</th>\n",
       "    </tr>\n",
       "  </thead>\n",
       "  <tbody>\n",
       "    <tr>\n",
       "      <th>0</th>\n",
       "      <td>0</td>\n",
       "      <td>0195153448</td>\n",
       "      <td>Classical Mythology</td>\n",
       "      <td>Mark P. O. Morford</td>\n",
       "      <td>2002</td>\n",
       "      <td>Oxford University Press</td>\n",
       "      <td>classical mythology</td>\n",
       "      <td>2.0</td>\n",
       "      <td>0.0</td>\n",
       "      <td>stockton, california, usa</td>\n",
       "      <td>18.0</td>\n",
       "      <td>25028</td>\n",
       "    </tr>\n",
       "    <tr>\n",
       "      <th>1</th>\n",
       "      <td>1</td>\n",
       "      <td>0002005018</td>\n",
       "      <td>Clara Callan</td>\n",
       "      <td>Richard Bruce Wright</td>\n",
       "      <td>2001</td>\n",
       "      <td>HarperFlamingo Canada</td>\n",
       "      <td>clara callan</td>\n",
       "      <td>8.0</td>\n",
       "      <td>5.0</td>\n",
       "      <td>timmins, ontario, canada</td>\n",
       "      <td>24.0</td>\n",
       "      <td>73</td>\n",
       "    </tr>\n",
       "    <tr>\n",
       "      <th>2</th>\n",
       "      <td>2</td>\n",
       "      <td>0002005018</td>\n",
       "      <td>Clara Callan</td>\n",
       "      <td>Richard Bruce Wright</td>\n",
       "      <td>2001</td>\n",
       "      <td>HarperFlamingo Canada</td>\n",
       "      <td>clara callan</td>\n",
       "      <td>11400.0</td>\n",
       "      <td>0.0</td>\n",
       "      <td>ottawa, ontario, canada</td>\n",
       "      <td>49.0</td>\n",
       "      <td>73</td>\n",
       "    </tr>\n",
       "    <tr>\n",
       "      <th>3</th>\n",
       "      <td>3</td>\n",
       "      <td>0002005018</td>\n",
       "      <td>Clara Callan</td>\n",
       "      <td>Richard Bruce Wright</td>\n",
       "      <td>2001</td>\n",
       "      <td>HarperFlamingo Canada</td>\n",
       "      <td>clara callan</td>\n",
       "      <td>11676.0</td>\n",
       "      <td>8.0</td>\n",
       "      <td>n/a, n/a, n/a</td>\n",
       "      <td>24.0</td>\n",
       "      <td>73</td>\n",
       "    </tr>\n",
       "    <tr>\n",
       "      <th>4</th>\n",
       "      <td>4</td>\n",
       "      <td>0002005018</td>\n",
       "      <td>Clara Callan</td>\n",
       "      <td>Richard Bruce Wright</td>\n",
       "      <td>2001</td>\n",
       "      <td>HarperFlamingo Canada</td>\n",
       "      <td>clara callan</td>\n",
       "      <td>41385.0</td>\n",
       "      <td>0.0</td>\n",
       "      <td>sudbury, ontario, canada</td>\n",
       "      <td>24.0</td>\n",
       "      <td>73</td>\n",
       "    </tr>\n",
       "  </tbody>\n",
       "</table>\n",
       "</div>"
      ],
      "text/plain": [
       "   Unnamed: 0        isbn           book_title           book_author  \\\n",
       "0           0  0195153448  Classical Mythology    Mark P. O. Morford   \n",
       "1           1  0002005018         Clara Callan  Richard Bruce Wright   \n",
       "2           2  0002005018         Clara Callan  Richard Bruce Wright   \n",
       "3           3  0002005018         Clara Callan  Richard Bruce Wright   \n",
       "4           4  0002005018         Clara Callan  Richard Bruce Wright   \n",
       "\n",
       "   year_of_publication                publisher            mod_title  user_id  \\\n",
       "0                 2002  Oxford University Press  classical mythology      2.0   \n",
       "1                 2001    HarperFlamingo Canada         clara callan      8.0   \n",
       "2                 2001    HarperFlamingo Canada         clara callan  11400.0   \n",
       "3                 2001    HarperFlamingo Canada         clara callan  11676.0   \n",
       "4                 2001    HarperFlamingo Canada         clara callan  41385.0   \n",
       "\n",
       "   book_rating                   location   age  isbn_index  \n",
       "0          0.0  stockton, california, usa  18.0       25028  \n",
       "1          5.0   timmins, ontario, canada  24.0          73  \n",
       "2          0.0    ottawa, ontario, canada  49.0          73  \n",
       "3          8.0              n/a, n/a, n/a  24.0          73  \n",
       "4          0.0   sudbury, ontario, canada  24.0          73  "
      ]
     },
     "execution_count": 44,
     "metadata": {},
     "output_type": "execute_result"
    }
   ],
   "source": [
    "df = pd.read_csv(\"data/clean_data.csv\")\n",
    "images = pd.read_csv(\"data/images.csv\")\n",
    "\n",
    "df.head()"
   ]
  },
  {
   "cell_type": "code",
   "execution_count": 45,
   "metadata": {},
   "outputs": [],
   "source": [
    "vectorizer = TfidfVectorizer()\n",
    "tfidf = vectorizer.fit_transform(df[\"mod_title\"])"
   ]
  },
  {
   "cell_type": "code",
   "execution_count": 100,
   "metadata": {},
   "outputs": [],
   "source": [
    "def make_clickable(val):\n",
    "    return '<a target=\"_blank\" href=\"{}\">Goodreads</a>'.format(val, val)\n",
    "\n",
    "def show_image(val):\n",
    "    return '<a href=\"{}\"><img src=\"{}\" width=50></img></a>'.format(val, val)\n",
    "\n",
    "def search(query,vectorizer):\n",
    "    processed = re.sub(\"[^a-zA-Z0-9 ]\", \"\", query.lower())\n",
    "    query_vec = vectorizer.transform([query])\n",
    "    similarity = cosine_similarity(query_vec, tfidf).flatten()\n",
    "    indices = np.argpartition(similarity, -10)[-10:]\n",
    "    results = df.iloc[indices].merge(images,how = 'left', on = \"isbn\")[[\"isbn_index\",\"isbn\",\"book_title\",\"book_author\",\"year_of_publication\",\"image_url_s\"]].drop_duplicates()\n",
    "    results = results.head(5)\n",
    "    # results = results.sort_values(\"ratings\", ascending=False)\n",
    "    \n",
    "    return results.style.format({'image_url_s': show_image}) #use this if you want a dataframe as an output\n",
    "    # return results.set_index(\"isbn_index\").T.to_dict() # use this if you want a dictionary as an output"
   ]
  },
  {
   "cell_type": "code",
   "execution_count": 101,
   "metadata": {},
   "outputs": [
    {
     "data": {
      "text/html": [
       "<style type=\"text/css\">\n",
       "</style>\n",
       "<table id=\"T_176d2\">\n",
       "  <thead>\n",
       "    <tr>\n",
       "      <th class=\"blank level0\" >&nbsp;</th>\n",
       "      <th id=\"T_176d2_level0_col0\" class=\"col_heading level0 col0\" >isbn_index</th>\n",
       "      <th id=\"T_176d2_level0_col1\" class=\"col_heading level0 col1\" >isbn</th>\n",
       "      <th id=\"T_176d2_level0_col2\" class=\"col_heading level0 col2\" >book_title</th>\n",
       "      <th id=\"T_176d2_level0_col3\" class=\"col_heading level0 col3\" >book_author</th>\n",
       "      <th id=\"T_176d2_level0_col4\" class=\"col_heading level0 col4\" >year_of_publication</th>\n",
       "      <th id=\"T_176d2_level0_col5\" class=\"col_heading level0 col5\" >image_url_s</th>\n",
       "    </tr>\n",
       "  </thead>\n",
       "  <tbody>\n",
       "    <tr>\n",
       "      <th id=\"T_176d2_level0_row0\" class=\"row_heading level0 row0\" >0</th>\n",
       "      <td id=\"T_176d2_row0_col0\" class=\"data row0 col0\" >125414</td>\n",
       "      <td id=\"T_176d2_row0_col1\" class=\"data row0 col1\" >059035342X</td>\n",
       "      <td id=\"T_176d2_row0_col2\" class=\"data row0 col2\" >Harry Potter and the Sorcerer's Stone (Harry Potter (Paperback))</td>\n",
       "      <td id=\"T_176d2_row0_col3\" class=\"data row0 col3\" >J. K. Rowling</td>\n",
       "      <td id=\"T_176d2_row0_col4\" class=\"data row0 col4\" >1999</td>\n",
       "      <td id=\"T_176d2_row0_col5\" class=\"data row0 col5\" ><a href=\"http://images.amazon.com/images/P/059035342X.01.THUMBZZZ.jpg\"><img src=\"http://images.amazon.com/images/P/059035342X.01.THUMBZZZ.jpg\" width=50></img></a></td>\n",
       "    </tr>\n",
       "    <tr>\n",
       "      <th id=\"T_176d2_level0_row1\" class=\"row_heading level0 row1\" >4</th>\n",
       "      <td id=\"T_176d2_row1_col0\" class=\"data row1 col0\" >85032</td>\n",
       "      <td id=\"T_176d2_row1_col1\" class=\"data row1 col1\" >043955490X</td>\n",
       "      <td id=\"T_176d2_row1_col2\" class=\"data row1 col2\" >Harry Potter and the Goblet of Fire (Harry Potter)</td>\n",
       "      <td id=\"T_176d2_row1_col3\" class=\"data row1 col3\" >J. K. Rowling</td>\n",
       "      <td id=\"T_176d2_row1_col4\" class=\"data row1 col4\" >2003</td>\n",
       "      <td id=\"T_176d2_row1_col5\" class=\"data row1 col5\" ><a href=\"http://images.amazon.com/images/P/043955490X.01.THUMBZZZ.jpg\"><img src=\"http://images.amazon.com/images/P/043955490X.01.THUMBZZZ.jpg\" width=50></img></a></td>\n",
       "    </tr>\n",
       "    <tr>\n",
       "      <th id=\"T_176d2_level0_row2\" class=\"row_heading level0 row2\" >6</th>\n",
       "      <td id=\"T_176d2_row2_col0\" class=\"data row2 col0\" >85031</td>\n",
       "      <td id=\"T_176d2_row2_col1\" class=\"data row2 col1\" >0439554896</td>\n",
       "      <td id=\"T_176d2_row2_col2\" class=\"data row2 col2\" >Harry Potter and the Chamber of Secrets (Harry Potter)</td>\n",
       "      <td id=\"T_176d2_row2_col3\" class=\"data row2 col3\" >J. K. Rowling</td>\n",
       "      <td id=\"T_176d2_row2_col4\" class=\"data row2 col4\" >2003</td>\n",
       "      <td id=\"T_176d2_row2_col5\" class=\"data row2 col5\" ><a href=\"http://images.amazon.com/images/P/0439554896.01.THUMBZZZ.jpg\"><img src=\"http://images.amazon.com/images/P/0439554896.01.THUMBZZZ.jpg\" width=50></img></a></td>\n",
       "    </tr>\n",
       "  </tbody>\n",
       "</table>\n"
      ],
      "text/plain": [
       "<pandas.io.formats.style.Styler at 0x1fb13c8db80>"
      ]
     },
     "execution_count": 101,
     "metadata": {},
     "output_type": "execute_result"
    }
   ],
   "source": [
    "search(\"harry potter\", vectorizer)"
   ]
  },
  {
   "cell_type": "code",
   "execution_count": 102,
   "metadata": {},
   "outputs": [],
   "source": [
    "pickle.dump(vectorizer, open('search_define.pkl','wb'))\n",
    "pickle.dump(tfidf, open('search_fit_transform.pkl','wb'))\n",
    "pickle.dump(search, open('search_result.pkl','wb'))"
   ]
  },
  {
   "cell_type": "code",
   "execution_count": 104,
   "metadata": {},
   "outputs": [],
   "source": [
    "search_result = pickle.load(open('search_result.pkl', 'rb'))\n",
    "search_define = pickle.load(open('search_define.pkl', 'rb'))\n",
    "search_fit_transform = pickle.load(open('search_fit_transform.pkl', 'rb'))"
   ]
  },
  {
   "cell_type": "code",
   "execution_count": 105,
   "metadata": {},
   "outputs": [
    {
     "data": {
      "text/html": [
       "<style type=\"text/css\">\n",
       "</style>\n",
       "<table id=\"T_e8003\">\n",
       "  <thead>\n",
       "    <tr>\n",
       "      <th class=\"blank level0\" >&nbsp;</th>\n",
       "      <th id=\"T_e8003_level0_col0\" class=\"col_heading level0 col0\" >isbn_index</th>\n",
       "      <th id=\"T_e8003_level0_col1\" class=\"col_heading level0 col1\" >isbn</th>\n",
       "      <th id=\"T_e8003_level0_col2\" class=\"col_heading level0 col2\" >book_title</th>\n",
       "      <th id=\"T_e8003_level0_col3\" class=\"col_heading level0 col3\" >book_author</th>\n",
       "      <th id=\"T_e8003_level0_col4\" class=\"col_heading level0 col4\" >year_of_publication</th>\n",
       "      <th id=\"T_e8003_level0_col5\" class=\"col_heading level0 col5\" >image_url_s</th>\n",
       "    </tr>\n",
       "  </thead>\n",
       "  <tbody>\n",
       "    <tr>\n",
       "      <th id=\"T_e8003_level0_row0\" class=\"row_heading level0 row0\" >0</th>\n",
       "      <td id=\"T_e8003_row0_col0\" class=\"data row0 col0\" >125414</td>\n",
       "      <td id=\"T_e8003_row0_col1\" class=\"data row0 col1\" >059035342X</td>\n",
       "      <td id=\"T_e8003_row0_col2\" class=\"data row0 col2\" >Harry Potter and the Sorcerer's Stone (Harry Potter (Paperback))</td>\n",
       "      <td id=\"T_e8003_row0_col3\" class=\"data row0 col3\" >J. K. Rowling</td>\n",
       "      <td id=\"T_e8003_row0_col4\" class=\"data row0 col4\" >1999</td>\n",
       "      <td id=\"T_e8003_row0_col5\" class=\"data row0 col5\" ><a href=\"http://images.amazon.com/images/P/059035342X.01.THUMBZZZ.jpg\"><img src=\"http://images.amazon.com/images/P/059035342X.01.THUMBZZZ.jpg\" width=50></img></a></td>\n",
       "    </tr>\n",
       "    <tr>\n",
       "      <th id=\"T_e8003_level0_row1\" class=\"row_heading level0 row1\" >4</th>\n",
       "      <td id=\"T_e8003_row1_col0\" class=\"data row1 col0\" >85032</td>\n",
       "      <td id=\"T_e8003_row1_col1\" class=\"data row1 col1\" >043955490X</td>\n",
       "      <td id=\"T_e8003_row1_col2\" class=\"data row1 col2\" >Harry Potter and the Goblet of Fire (Harry Potter)</td>\n",
       "      <td id=\"T_e8003_row1_col3\" class=\"data row1 col3\" >J. K. Rowling</td>\n",
       "      <td id=\"T_e8003_row1_col4\" class=\"data row1 col4\" >2003</td>\n",
       "      <td id=\"T_e8003_row1_col5\" class=\"data row1 col5\" ><a href=\"http://images.amazon.com/images/P/043955490X.01.THUMBZZZ.jpg\"><img src=\"http://images.amazon.com/images/P/043955490X.01.THUMBZZZ.jpg\" width=50></img></a></td>\n",
       "    </tr>\n",
       "    <tr>\n",
       "      <th id=\"T_e8003_level0_row2\" class=\"row_heading level0 row2\" >6</th>\n",
       "      <td id=\"T_e8003_row2_col0\" class=\"data row2 col0\" >85031</td>\n",
       "      <td id=\"T_e8003_row2_col1\" class=\"data row2 col1\" >0439554896</td>\n",
       "      <td id=\"T_e8003_row2_col2\" class=\"data row2 col2\" >Harry Potter and the Chamber of Secrets (Harry Potter)</td>\n",
       "      <td id=\"T_e8003_row2_col3\" class=\"data row2 col3\" >J. K. Rowling</td>\n",
       "      <td id=\"T_e8003_row2_col4\" class=\"data row2 col4\" >2003</td>\n",
       "      <td id=\"T_e8003_row2_col5\" class=\"data row2 col5\" ><a href=\"http://images.amazon.com/images/P/0439554896.01.THUMBZZZ.jpg\"><img src=\"http://images.amazon.com/images/P/0439554896.01.THUMBZZZ.jpg\" width=50></img></a></td>\n",
       "    </tr>\n",
       "  </tbody>\n",
       "</table>\n"
      ],
      "text/plain": [
       "<pandas.io.formats.style.Styler at 0x1fb19c9a6d0>"
      ]
     },
     "execution_count": 105,
     "metadata": {},
     "output_type": "execute_result"
    }
   ],
   "source": [
    "search_result(\"harry potter\",search_define)"
   ]
  },
  {
   "cell_type": "code",
   "execution_count": null,
   "metadata": {},
   "outputs": [],
   "source": []
  }
 ],
 "metadata": {
  "kernelspec": {
   "display_name": "Python 3.9.12 (conda)",
   "language": "python",
   "name": "python3"
  },
  "language_info": {
   "codemirror_mode": {
    "name": "ipython",
    "version": 3
   },
   "file_extension": ".py",
   "mimetype": "text/x-python",
   "name": "python",
   "nbconvert_exporter": "python",
   "pygments_lexer": "ipython3",
   "version": "3.9.13"
  },
  "orig_nbformat": 4,
  "vscode": {
   "interpreter": {
    "hash": "8be38c2fbad19d017fc2c247730dbb4a9fae72c596c13558eb6beecdc61a8996"
   }
  }
 },
 "nbformat": 4,
 "nbformat_minor": 2
}
