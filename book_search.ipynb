{
 "cells": [
  {
   "cell_type": "markdown",
   "metadata": {},
   "source": [
    "### Notebook purpose\n",
    "To create a search engine for our list of books, so our recommendation page wont have to require the exact title of the book and more user friendly. <br>\n",
    "User then will be directed to use the `isbn_index` in our recommendation system to find the similar books."
   ]
  },
  {
   "cell_type": "code",
   "execution_count": 1,
   "metadata": {},
   "outputs": [],
   "source": [
    "import logging\n",
    "logging.captureWarnings(True)\n",
    "\n",
    "import numpy as np\n",
    "import pandas as pd\n",
    "\n",
    "# import pickle\n",
    "import dill as pickle\n",
    "import re\n",
    "\n",
    "from sklearn.feature_extraction.text import TfidfVectorizer\n",
    "\n",
    "from sklearn.metrics.pairwise import cosine_similarity"
   ]
  },
  {
   "cell_type": "code",
   "execution_count": 2,
   "metadata": {},
   "outputs": [
    {
     "data": {
      "text/html": [
       "<div>\n",
       "<style scoped>\n",
       "    .dataframe tbody tr th:only-of-type {\n",
       "        vertical-align: middle;\n",
       "    }\n",
       "\n",
       "    .dataframe tbody tr th {\n",
       "        vertical-align: top;\n",
       "    }\n",
       "\n",
       "    .dataframe thead th {\n",
       "        text-align: right;\n",
       "    }\n",
       "</style>\n",
       "<table border=\"1\" class=\"dataframe\">\n",
       "  <thead>\n",
       "    <tr style=\"text-align: right;\">\n",
       "      <th></th>\n",
       "      <th>isbn</th>\n",
       "      <th>book_title</th>\n",
       "      <th>book_author</th>\n",
       "      <th>year_of_publication</th>\n",
       "      <th>publisher</th>\n",
       "      <th>mod_title</th>\n",
       "      <th>isbn_index</th>\n",
       "      <th>user_id</th>\n",
       "      <th>book_rating</th>\n",
       "      <th>location</th>\n",
       "      <th>age</th>\n",
       "    </tr>\n",
       "  </thead>\n",
       "  <tbody>\n",
       "    <tr>\n",
       "      <th>0</th>\n",
       "      <td>0195153448</td>\n",
       "      <td>Classical Mythology</td>\n",
       "      <td>Mark P. O. Morford</td>\n",
       "      <td>2002</td>\n",
       "      <td>Oxford University Press</td>\n",
       "      <td>classical mythology</td>\n",
       "      <td>25028</td>\n",
       "      <td>2.0</td>\n",
       "      <td>0.0</td>\n",
       "      <td>stockton, california, usa</td>\n",
       "      <td>18.0</td>\n",
       "    </tr>\n",
       "    <tr>\n",
       "      <th>1</th>\n",
       "      <td>0002005018</td>\n",
       "      <td>Clara Callan</td>\n",
       "      <td>Richard Bruce Wright</td>\n",
       "      <td>2001</td>\n",
       "      <td>HarperFlamingo Canada</td>\n",
       "      <td>clara callan</td>\n",
       "      <td>73</td>\n",
       "      <td>8.0</td>\n",
       "      <td>5.0</td>\n",
       "      <td>timmins, ontario, canada</td>\n",
       "      <td>24.0</td>\n",
       "    </tr>\n",
       "    <tr>\n",
       "      <th>2</th>\n",
       "      <td>0002005018</td>\n",
       "      <td>Clara Callan</td>\n",
       "      <td>Richard Bruce Wright</td>\n",
       "      <td>2001</td>\n",
       "      <td>HarperFlamingo Canada</td>\n",
       "      <td>clara callan</td>\n",
       "      <td>73</td>\n",
       "      <td>11400.0</td>\n",
       "      <td>0.0</td>\n",
       "      <td>ottawa, ontario, canada</td>\n",
       "      <td>49.0</td>\n",
       "    </tr>\n",
       "    <tr>\n",
       "      <th>3</th>\n",
       "      <td>0002005018</td>\n",
       "      <td>Clara Callan</td>\n",
       "      <td>Richard Bruce Wright</td>\n",
       "      <td>2001</td>\n",
       "      <td>HarperFlamingo Canada</td>\n",
       "      <td>clara callan</td>\n",
       "      <td>73</td>\n",
       "      <td>11676.0</td>\n",
       "      <td>8.0</td>\n",
       "      <td>n/a, n/a, n/a</td>\n",
       "      <td>24.0</td>\n",
       "    </tr>\n",
       "    <tr>\n",
       "      <th>4</th>\n",
       "      <td>0002005018</td>\n",
       "      <td>Clara Callan</td>\n",
       "      <td>Richard Bruce Wright</td>\n",
       "      <td>2001</td>\n",
       "      <td>HarperFlamingo Canada</td>\n",
       "      <td>clara callan</td>\n",
       "      <td>73</td>\n",
       "      <td>41385.0</td>\n",
       "      <td>0.0</td>\n",
       "      <td>sudbury, ontario, canada</td>\n",
       "      <td>24.0</td>\n",
       "    </tr>\n",
       "  </tbody>\n",
       "</table>\n",
       "</div>"
      ],
      "text/plain": [
       "         isbn           book_title           book_author  year_of_publication  \\\n",
       "0  0195153448  Classical Mythology    Mark P. O. Morford                 2002   \n",
       "1  0002005018         Clara Callan  Richard Bruce Wright                 2001   \n",
       "2  0002005018         Clara Callan  Richard Bruce Wright                 2001   \n",
       "3  0002005018         Clara Callan  Richard Bruce Wright                 2001   \n",
       "4  0002005018         Clara Callan  Richard Bruce Wright                 2001   \n",
       "\n",
       "                 publisher            mod_title  isbn_index  user_id  \\\n",
       "0  Oxford University Press  classical mythology       25028      2.0   \n",
       "1    HarperFlamingo Canada         clara callan          73      8.0   \n",
       "2    HarperFlamingo Canada         clara callan          73  11400.0   \n",
       "3    HarperFlamingo Canada         clara callan          73  11676.0   \n",
       "4    HarperFlamingo Canada         clara callan          73  41385.0   \n",
       "\n",
       "   book_rating                   location   age  \n",
       "0          0.0  stockton, california, usa  18.0  \n",
       "1          5.0   timmins, ontario, canada  24.0  \n",
       "2          0.0    ottawa, ontario, canada  49.0  \n",
       "3          8.0              n/a, n/a, n/a  24.0  \n",
       "4          0.0   sudbury, ontario, canada  24.0  "
      ]
     },
     "execution_count": 2,
     "metadata": {},
     "output_type": "execute_result"
    }
   ],
   "source": [
    "df = pd.read_csv(\"data/clean_data.csv\")\n",
    "images = pd.read_csv(\"data/images.csv\")\n",
    "\n",
    "df.head()"
   ]
  },
  {
   "cell_type": "code",
   "execution_count": 3,
   "metadata": {},
   "outputs": [],
   "source": [
    "vectorizer = TfidfVectorizer()\n",
    "tfidf = vectorizer.fit_transform(df[\"mod_title\"])"
   ]
  },
  {
   "cell_type": "code",
   "execution_count": 7,
   "metadata": {},
   "outputs": [],
   "source": [
    "def make_clickable(val):\n",
    "    return '<a target=\"_blank\" href=\"{}\">Goodreads</a>'.format(val, val)\n",
    "\n",
    "def show_image(val):\n",
    "    return '<a href=\"{}\"><img src=\"{}\" width=50></img></a>'.format(val, val)\n",
    "\n",
    "def search(query,vectorizer):\n",
    "    processed = re.sub(\"[^a-zA-Z0-9 ]\", \"\", query.lower())\n",
    "    query_vec = vectorizer.transform([query])\n",
    "    similarity = cosine_similarity(query_vec, tfidf).flatten()\n",
    "    indices = np.argpartition(similarity, -10)[-10:]\n",
    "    results = df.iloc[indices].merge(images,how = 'left', on = \"isbn\")[[\"isbn_index\",\"isbn\",\"book_title\",\"book_author\",\"year_of_publication\",\"image_url_s\"]].drop_duplicates()\n",
    "    results = results.head(5)\n",
    "    # results = results.sort_values(\"ratings\", ascending=False)\n",
    "    \n",
    "    # return results.style.format({'image_url_s': show_image}) #use this if you want a dataframe as an output\n",
    "    return results.set_index(\"isbn\").T.to_dict() # use this if you want a dictionary as an output"
   ]
  },
  {
   "cell_type": "code",
   "execution_count": 8,
   "metadata": {},
   "outputs": [
    {
     "data": {
      "text/plain": [
       "{'059035342X': {'isbn_index': 125414,\n",
       "  'book_title': \"Harry Potter and the Sorcerer's Stone (Harry Potter (Paperback))\",\n",
       "  'book_author': 'J. K. Rowling',\n",
       "  'year_of_publication': 1999,\n",
       "  'image_url_s': 'http://images.amazon.com/images/P/059035342X.01.THUMBZZZ.jpg'},\n",
       " '043955490X': {'isbn_index': 85032,\n",
       "  'book_title': 'Harry Potter and the Goblet of Fire (Harry Potter)',\n",
       "  'book_author': 'J. K. Rowling',\n",
       "  'year_of_publication': 2003,\n",
       "  'image_url_s': 'http://images.amazon.com/images/P/043955490X.01.THUMBZZZ.jpg'},\n",
       " '0439554896': {'isbn_index': 85031,\n",
       "  'book_title': 'Harry Potter and the Chamber of Secrets (Harry Potter)',\n",
       "  'book_author': 'J. K. Rowling',\n",
       "  'year_of_publication': 2003,\n",
       "  'image_url_s': 'http://images.amazon.com/images/P/0439554896.01.THUMBZZZ.jpg'}}"
      ]
     },
     "execution_count": 8,
     "metadata": {},
     "output_type": "execute_result"
    }
   ],
   "source": [
    "search(\"harry potter\", vectorizer)"
   ]
  },
  {
   "cell_type": "markdown",
   "metadata": {},
   "source": [
    "## Pickle\n",
    "\n",
    "Pickle is a serialization process, this enables the \"object\" from our notebook to be used in the `app.py` and then in the web app. <br>\n",
    "We will pickle the data, vectorizer, vectorizer fit transform result, and the function used to search for books with similar title."
   ]
  },
  {
   "cell_type": "code",
   "execution_count": 23,
   "metadata": {},
   "outputs": [],
   "source": [
    "pickle.dump(df, open('pickles/books_data.pkl','wb'))\n",
    "pickle.dump(images, open('pickles/images_data.pkl','wb'))\n",
    "\n",
    "books_data = pickle.load(open('pickles/books_data.pkl', 'rb'))\n",
    "images_data = pickle.load(open('pickles/images_data.pkl', 'rb'))"
   ]
  },
  {
   "cell_type": "code",
   "execution_count": null,
   "metadata": {},
   "outputs": [],
   "source": [
    "pickle.dump(vectorizer, open('pickles/search_define.pkl','wb'))\n",
    "pickle.dump(tfidf, open('pickles/search_fit_transform.pkl','wb'))\n",
    "\n",
    "search_define = pickle.load(open('pickles/search_define.pkl', 'rb'))\n",
    "search_fit_transform = pickle.load(open('pickles/search_fit_transform.pkl', 'rb'))"
   ]
  },
  {
   "cell_type": "code",
   "execution_count": 38,
   "metadata": {},
   "outputs": [],
   "source": [
    "def new_search(query,vectorizer):\n",
    "    processed = re.sub(\"[^a-zA-Z0-9 ]\", \"\", query.lower())\n",
    "    query_vec = vectorizer.transform([query])\n",
    "    similarity = cosine_similarity(query_vec, search_fit_transform).flatten()\n",
    "    indices = np.argpartition(similarity, -10)[-10:]\n",
    "    results = books_data.iloc[indices].merge(images_data,how = 'left', on = \"isbn\")[[\"isbn_index\",\"isbn\",\"book_title\",\"book_author\",\"year_of_publication\",\"image_url_s\"]].drop_duplicates()\n",
    "    results = results.head(5)\n",
    "    # results = results.sort_values(\"ratings\", ascending=False)\n",
    "    \n",
    "    # return results.style.format({'image_url_s': show_image}) #use this if you want a dataframe as an output\n",
    "    return results.set_index(\"isbn\").T.to_dict() # use this if you want a dictionary as an output"
   ]
  },
  {
   "cell_type": "code",
   "execution_count": 39,
   "metadata": {},
   "outputs": [],
   "source": [
    "pickle.dump(new_search, open('pickles/search_result.pkl','wb'))"
   ]
  },
  {
   "cell_type": "code",
   "execution_count": 40,
   "metadata": {},
   "outputs": [],
   "source": [
    "search_result = pickle.load(open('pickles/search_result.pkl', 'rb'))"
   ]
  },
  {
   "cell_type": "code",
   "execution_count": 41,
   "metadata": {},
   "outputs": [],
   "source": [
    "book_rec = search_result(\"harry potter\",search_define)"
   ]
  },
  {
   "cell_type": "code",
   "execution_count": 42,
   "metadata": {},
   "outputs": [
    {
     "name": "stdout",
     "output_type": "stream",
     "text": [
      "{'isbn_index': 125414, 'book_title': \"Harry Potter and the Sorcerer's Stone (Harry Potter (Paperback))\", 'book_author': 'J. K. Rowling', 'year_of_publication': 1999, 'image_url_s': 'http://images.amazon.com/images/P/059035342X.01.THUMBZZZ.jpg'}\n",
      "{'isbn_index': 85032, 'book_title': 'Harry Potter and the Goblet of Fire (Harry Potter)', 'book_author': 'J. K. Rowling', 'year_of_publication': 2003, 'image_url_s': 'http://images.amazon.com/images/P/043955490X.01.THUMBZZZ.jpg'}\n",
      "{'isbn_index': 85031, 'book_title': 'Harry Potter and the Chamber of Secrets (Harry Potter)', 'book_author': 'J. K. Rowling', 'year_of_publication': 2003, 'image_url_s': 'http://images.amazon.com/images/P/0439554896.01.THUMBZZZ.jpg'}\n"
     ]
    }
   ],
   "source": [
    "for i in book_rec:\n",
    "    print(book_rec[i])"
   ]
  },
  {
   "cell_type": "code",
   "execution_count": null,
   "metadata": {},
   "outputs": [],
   "source": []
  }
 ],
 "metadata": {
  "kernelspec": {
   "display_name": "Python 3.9.12 (conda)",
   "language": "python",
   "name": "python3"
  },
  "language_info": {
   "codemirror_mode": {
    "name": "ipython",
    "version": 3
   },
   "file_extension": ".py",
   "mimetype": "text/x-python",
   "name": "python",
   "nbconvert_exporter": "python",
   "pygments_lexer": "ipython3",
   "version": "3.9.13"
  },
  "orig_nbformat": 4,
  "vscode": {
   "interpreter": {
    "hash": "8be38c2fbad19d017fc2c247730dbb4a9fae72c596c13558eb6beecdc61a8996"
   }
  }
 },
 "nbformat": 4,
 "nbformat_minor": 2
}
