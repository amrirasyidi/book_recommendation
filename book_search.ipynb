{
 "cells": [
  {
   "cell_type": "markdown",
   "metadata": {},
   "source": [
    "### Notebook purpose\n",
    "To create a search engine for our list of books, so our recommendation page wont have to require the exact title of the book and more user friendly. <br>\n",
    "User then will be directed to use the `isbn_index` in our recommendation system to find the similar books."
   ]
  },
  {
   "cell_type": "code",
   "execution_count": 1,
   "metadata": {},
   "outputs": [],
   "source": [
    "import logging\n",
    "logging.captureWarnings(True)\n",
    "\n",
    "import numpy as np\n",
    "import pandas as pd\n",
    "\n",
    "# import pickle\n",
    "import dill as pickle\n",
    "import re\n",
    "\n",
    "from sklearn.feature_extraction.text import TfidfVectorizer\n",
    "\n",
    "from sklearn.metrics.pairwise import cosine_similarity"
   ]
  },
  {
   "cell_type": "code",
   "execution_count": 2,
   "metadata": {},
   "outputs": [
    {
     "data": {
      "text/html": [
       "<div>\n",
       "<style scoped>\n",
       "    .dataframe tbody tr th:only-of-type {\n",
       "        vertical-align: middle;\n",
       "    }\n",
       "\n",
       "    .dataframe tbody tr th {\n",
       "        vertical-align: top;\n",
       "    }\n",
       "\n",
       "    .dataframe thead th {\n",
       "        text-align: right;\n",
       "    }\n",
       "</style>\n",
       "<table border=\"1\" class=\"dataframe\">\n",
       "  <thead>\n",
       "    <tr style=\"text-align: right;\">\n",
       "      <th></th>\n",
       "      <th>isbn</th>\n",
       "      <th>book_title</th>\n",
       "      <th>book_author</th>\n",
       "      <th>year_of_publication</th>\n",
       "      <th>publisher</th>\n",
       "      <th>mod_title</th>\n",
       "      <th>isbn_index</th>\n",
       "      <th>user_id</th>\n",
       "      <th>book_rating</th>\n",
       "      <th>location</th>\n",
       "      <th>age</th>\n",
       "    </tr>\n",
       "  </thead>\n",
       "  <tbody>\n",
       "    <tr>\n",
       "      <th>0</th>\n",
       "      <td>0440234743</td>\n",
       "      <td>The Testament</td>\n",
       "      <td>John Grisham</td>\n",
       "      <td>1999</td>\n",
       "      <td>Dell</td>\n",
       "      <td>the testament</td>\n",
       "      <td>87548</td>\n",
       "      <td>277478.0</td>\n",
       "      <td>0.0</td>\n",
       "      <td>schiedam, zuid-holland, netherlands</td>\n",
       "      <td>31.0</td>\n",
       "    </tr>\n",
       "    <tr>\n",
       "      <th>1</th>\n",
       "      <td>0440234743</td>\n",
       "      <td>The Testament</td>\n",
       "      <td>John Grisham</td>\n",
       "      <td>1999</td>\n",
       "      <td>Dell</td>\n",
       "      <td>the testament</td>\n",
       "      <td>87548</td>\n",
       "      <td>2977.0</td>\n",
       "      <td>0.0</td>\n",
       "      <td>richland, washington, usa</td>\n",
       "      <td>25.0</td>\n",
       "    </tr>\n",
       "    <tr>\n",
       "      <th>2</th>\n",
       "      <td>0440234743</td>\n",
       "      <td>The Testament</td>\n",
       "      <td>John Grisham</td>\n",
       "      <td>1999</td>\n",
       "      <td>Dell</td>\n",
       "      <td>the testament</td>\n",
       "      <td>87548</td>\n",
       "      <td>3363.0</td>\n",
       "      <td>0.0</td>\n",
       "      <td>knoxville, tennessee, usa</td>\n",
       "      <td>29.0</td>\n",
       "    </tr>\n",
       "    <tr>\n",
       "      <th>3</th>\n",
       "      <td>0440234743</td>\n",
       "      <td>The Testament</td>\n",
       "      <td>John Grisham</td>\n",
       "      <td>1999</td>\n",
       "      <td>Dell</td>\n",
       "      <td>the testament</td>\n",
       "      <td>87548</td>\n",
       "      <td>7346.0</td>\n",
       "      <td>9.0</td>\n",
       "      <td>sunnyvale, california, usa</td>\n",
       "      <td>49.0</td>\n",
       "    </tr>\n",
       "    <tr>\n",
       "      <th>4</th>\n",
       "      <td>0440234743</td>\n",
       "      <td>The Testament</td>\n",
       "      <td>John Grisham</td>\n",
       "      <td>1999</td>\n",
       "      <td>Dell</td>\n",
       "      <td>the testament</td>\n",
       "      <td>87548</td>\n",
       "      <td>9747.0</td>\n",
       "      <td>0.0</td>\n",
       "      <td>o`fallon, missouri, usa</td>\n",
       "      <td>24.0</td>\n",
       "    </tr>\n",
       "  </tbody>\n",
       "</table>\n",
       "</div>"
      ],
      "text/plain": [
       "         isbn     book_title   book_author  year_of_publication publisher  \\\n",
       "0  0440234743  The Testament  John Grisham                 1999      Dell   \n",
       "1  0440234743  The Testament  John Grisham                 1999      Dell   \n",
       "2  0440234743  The Testament  John Grisham                 1999      Dell   \n",
       "3  0440234743  The Testament  John Grisham                 1999      Dell   \n",
       "4  0440234743  The Testament  John Grisham                 1999      Dell   \n",
       "\n",
       "       mod_title  isbn_index   user_id  book_rating  \\\n",
       "0  the testament       87548  277478.0          0.0   \n",
       "1  the testament       87548    2977.0          0.0   \n",
       "2  the testament       87548    3363.0          0.0   \n",
       "3  the testament       87548    7346.0          9.0   \n",
       "4  the testament       87548    9747.0          0.0   \n",
       "\n",
       "                              location   age  \n",
       "0  schiedam, zuid-holland, netherlands  31.0  \n",
       "1            richland, washington, usa  25.0  \n",
       "2            knoxville, tennessee, usa  29.0  \n",
       "3           sunnyvale, california, usa  49.0  \n",
       "4              o`fallon, missouri, usa  24.0  "
      ]
     },
     "execution_count": 2,
     "metadata": {},
     "output_type": "execute_result"
    }
   ],
   "source": [
    "df = pd.read_csv(\"data/clean_data.csv\")\n",
    "images = pd.read_csv(\"data/images.csv\")\n",
    "\n",
    "df.head()"
   ]
  },
  {
   "cell_type": "code",
   "execution_count": 3,
   "metadata": {},
   "outputs": [
    {
     "data": {
      "text/html": [
       "<div>\n",
       "<style scoped>\n",
       "    .dataframe tbody tr th:only-of-type {\n",
       "        vertical-align: middle;\n",
       "    }\n",
       "\n",
       "    .dataframe tbody tr th {\n",
       "        vertical-align: top;\n",
       "    }\n",
       "\n",
       "    .dataframe thead th {\n",
       "        text-align: right;\n",
       "    }\n",
       "</style>\n",
       "<table border=\"1\" class=\"dataframe\">\n",
       "  <thead>\n",
       "    <tr style=\"text-align: right;\">\n",
       "      <th></th>\n",
       "      <th>isbn_index</th>\n",
       "      <th>isbn</th>\n",
       "      <th>book_title</th>\n",
       "      <th>book_author</th>\n",
       "      <th>year_of_publication</th>\n",
       "      <th>publisher</th>\n",
       "      <th>mod_title</th>\n",
       "    </tr>\n",
       "  </thead>\n",
       "  <tbody>\n",
       "    <tr>\n",
       "      <th>22196</th>\n",
       "      <td>806</td>\n",
       "      <td>000649840X</td>\n",
       "      <td>Angelas Ashes</td>\n",
       "      <td>Frank Mccourt</td>\n",
       "      <td>0</td>\n",
       "      <td>Harpercollins Uk</td>\n",
       "      <td>angelas ashes</td>\n",
       "    </tr>\n",
       "    <tr>\n",
       "      <th>70393</th>\n",
       "      <td>1111</td>\n",
       "      <td>0007110928</td>\n",
       "      <td>Billy</td>\n",
       "      <td>Pamela Stephenson</td>\n",
       "      <td>2002</td>\n",
       "      <td>HarperCollins Entertainment</td>\n",
       "      <td>billy</td>\n",
       "    </tr>\n",
       "    <tr>\n",
       "      <th>48417</th>\n",
       "      <td>1336</td>\n",
       "      <td>002026478X</td>\n",
       "      <td>AGE OF INNOCENCE (MOVIE TIE-IN)</td>\n",
       "      <td>Edith Wharton</td>\n",
       "      <td>1993</td>\n",
       "      <td>Scribner</td>\n",
       "      <td>age of innocence movie tiein</td>\n",
       "    </tr>\n",
       "    <tr>\n",
       "      <th>84225</th>\n",
       "      <td>1472</td>\n",
       "      <td>0020442203</td>\n",
       "      <td>Lion, the Witch and the Wardrobe</td>\n",
       "      <td>C.S. Lewis</td>\n",
       "      <td>1970</td>\n",
       "      <td>MacMillan Publishing Company.</td>\n",
       "      <td>lion the witch and the wardrobe</td>\n",
       "    </tr>\n",
       "    <tr>\n",
       "      <th>49023</th>\n",
       "      <td>1769</td>\n",
       "      <td>002542730X</td>\n",
       "      <td>Politically Correct Bedtime Stories: Modern Ta...</td>\n",
       "      <td>James Finn Garner</td>\n",
       "      <td>1994</td>\n",
       "      <td>John Wiley and Sons Inc</td>\n",
       "      <td>politically correct bedtime stories modern tal...</td>\n",
       "    </tr>\n",
       "  </tbody>\n",
       "</table>\n",
       "</div>"
      ],
      "text/plain": [
       "       isbn_index        isbn  \\\n",
       "22196         806  000649840X   \n",
       "70393        1111  0007110928   \n",
       "48417        1336  002026478X   \n",
       "84225        1472  0020442203   \n",
       "49023        1769  002542730X   \n",
       "\n",
       "                                              book_title        book_author  \\\n",
       "22196                                      Angelas Ashes      Frank Mccourt   \n",
       "70393                                              Billy  Pamela Stephenson   \n",
       "48417                    AGE OF INNOCENCE (MOVIE TIE-IN)      Edith Wharton   \n",
       "84225                   Lion, the Witch and the Wardrobe         C.S. Lewis   \n",
       "49023  Politically Correct Bedtime Stories: Modern Ta...  James Finn Garner   \n",
       "\n",
       "       year_of_publication                      publisher  \\\n",
       "22196                    0               Harpercollins Uk   \n",
       "70393                 2002    HarperCollins Entertainment   \n",
       "48417                 1993                       Scribner   \n",
       "84225                 1970  MacMillan Publishing Company.   \n",
       "49023                 1994        John Wiley and Sons Inc   \n",
       "\n",
       "                                               mod_title  \n",
       "22196                                      angelas ashes  \n",
       "70393                                              billy  \n",
       "48417                       age of innocence movie tiein  \n",
       "84225                    lion the witch and the wardrobe  \n",
       "49023  politically correct bedtime stories modern tal...  "
      ]
     },
     "execution_count": 3,
     "metadata": {},
     "output_type": "execute_result"
    }
   ],
   "source": [
    "books_clean = df[[\"isbn_index\",\"isbn\",\"book_title\",\"book_author\",\"year_of_publication\",\"publisher\",\"mod_title\",]].drop_duplicates().sort_values(by=\"isbn\")\n",
    "books_clean.head()"
   ]
  },
  {
   "cell_type": "code",
   "execution_count": 4,
   "metadata": {},
   "outputs": [],
   "source": [
    "vectorizer = TfidfVectorizer()\n",
    "tfidf = vectorizer.fit_transform(books_clean[\"mod_title\"])"
   ]
  },
  {
   "cell_type": "code",
   "execution_count": 5,
   "metadata": {},
   "outputs": [],
   "source": [
    "def make_clickable(val):\n",
    "    return '<a target=\"_blank\" href=\"{}\">Goodreads</a>'.format(val, val)\n",
    "\n",
    "def show_image(val):\n",
    "    return '<a href=\"{}\"><img src=\"{}\" width=50></img></a>'.format(val, val)\n",
    "\n",
    "def search(query,vectorizer):\n",
    "    # processed = re.sub(\"[^a-zA-Z0-9 ]\", \"\", query.lower())\n",
    "    processed = query.lower()\n",
    "    query_vec = vectorizer.transform([processed])\n",
    "    similarity = cosine_similarity(query_vec, tfidf).flatten()\n",
    "    indices = np.argpartition(similarity, -5)[-5:]\n",
    "\n",
    "    results = books_clean.iloc[indices].iloc[::-1]\n",
    "    results = results.merge(images[[\"isbn\",\"image_url_m\"]], how = \"left\", on = \"isbn\")\n",
    "    # results = results.sort_values(\"ratings\", ascending=False)\n",
    "    \n",
    "    # return results.style.format({'image_url_s': show_image}) #use this if you want a dataframe as an output\n",
    "    return results.head(5).set_index(\"isbn\").T.to_dict() # use this if you want a dictionary as an output"
   ]
  },
  {
   "cell_type": "code",
   "execution_count": 6,
   "metadata": {},
   "outputs": [
    {
     "data": {
      "text/plain": [
       "{'0553272535': {'isbn_index': 118219,\n",
       "  'book_title': 'Night',\n",
       "  'book_author': 'Elie Wiesel',\n",
       "  'year_of_publication': 1982,\n",
       "  'publisher': 'Bantam Books',\n",
       "  'mod_title': 'night',\n",
       "  'image_url_m': 'http://images.amazon.com/images/P/0553272535.01.MZZZZZZZ.jpg'},\n",
       " '0671525743': {'isbn_index': 135914,\n",
       "  'book_title': 'Night Whispers',\n",
       "  'book_author': 'Judith Mcnaught',\n",
       "  'year_of_publication': 1999,\n",
       "  'publisher': 'Pocket',\n",
       "  'mod_title': 'night whispers',\n",
       "  'image_url_m': 'http://images.amazon.com/images/P/0671525743.01.MZZZZZZZ.jpg'},\n",
       " '0425146413': {'isbn_index': 81650,\n",
       "  'book_title': 'Night Prey',\n",
       "  'book_author': 'John Sandford',\n",
       "  'year_of_publication': 2004,\n",
       "  'publisher': 'Berkley Publishing Group',\n",
       "  'mod_title': 'night prey',\n",
       "  'image_url_m': 'http://images.amazon.com/images/P/0425146413.01.MZZZZZZZ.jpg'},\n",
       " '1551669498': {'isbn_index': 219360,\n",
       "  'book_title': 'Girls Night',\n",
       "  'book_author': 'Stef Ann Holm',\n",
       "  'year_of_publication': 2002,\n",
       "  'publisher': 'Mira',\n",
       "  'mod_title': 'girls night',\n",
       "  'image_url_m': 'http://images.amazon.com/images/P/1551669498.01.MZZZZZZZ.jpg'},\n",
       " '0821769367': {'isbn_index': 187537,\n",
       "  'book_title': 'The Night Before',\n",
       "  'book_author': 'Lisa Jackson',\n",
       "  'year_of_publication': 2003,\n",
       "  'publisher': 'Zebra Books',\n",
       "  'mod_title': 'the night before',\n",
       "  'image_url_m': 'http://images.amazon.com/images/P/0821769367.01.MZZZZZZZ.jpg'}}"
      ]
     },
     "execution_count": 6,
     "metadata": {},
     "output_type": "execute_result"
    }
   ],
   "source": [
    "search(\"night\", vectorizer)"
   ]
  },
  {
   "cell_type": "markdown",
   "metadata": {},
   "source": [
    "## Pickle\n",
    "\n",
    "Pickle is a serialization process, this enables the \"object\" from our notebook to be used in the `app.py` and then in the web app. <br>\n",
    "We will pickle the data, vectorizer, vectorizer fit transform result, and the function used to search for books with similar title."
   ]
  },
  {
   "cell_type": "code",
   "execution_count": 7,
   "metadata": {},
   "outputs": [],
   "source": [
    "pickle.dump(books_clean, open('pickles/books_data.pkl','wb'))\n",
    "pickle.dump(images, open('pickles/images_data.pkl','wb'))\n",
    "\n",
    "books_data = pickle.load(open('pickles/books_data.pkl', 'rb'))\n",
    "images_data = pickle.load(open('pickles/images_data.pkl', 'rb'))"
   ]
  },
  {
   "cell_type": "code",
   "execution_count": 8,
   "metadata": {},
   "outputs": [],
   "source": [
    "pickle.dump(vectorizer, open('pickles/search_define.pkl','wb'))\n",
    "pickle.dump(tfidf, open('pickles/search_fit_transform.pkl','wb'))\n",
    "\n",
    "search_define = pickle.load(open('pickles/search_define.pkl', 'rb'))\n",
    "search_fit_transform = pickle.load(open('pickles/search_fit_transform.pkl', 'rb'))"
   ]
  },
  {
   "cell_type": "code",
   "execution_count": 9,
   "metadata": {},
   "outputs": [],
   "source": [
    "def new_search(query,vectorizer):\n",
    "    # processed = re.sub(\"[^a-zA-Z0-9 ]\", \"\", query.lower())\n",
    "    processed = query.lower()\n",
    "    query_vec = vectorizer.transform([query])\n",
    "    similarity = cosine_similarity(query_vec, search_fit_transform).flatten()\n",
    "    indices = np.argpartition(similarity, -10)[-10:]\n",
    "    results = books_data.iloc[indices].iloc[::-1]\n",
    "    results = results.merge(images_data[[\"isbn\",\"image_url_m\"]], how = \"left\", on = \"isbn\")\n",
    "    # results = results.sort_values(\"ratings\", ascending=False)\n",
    "    \n",
    "    # return results.style.format({'image_url_s': show_image}) #use this if you want a dataframe as an output\n",
    "    return results.head(5).set_index(\"isbn\").T.to_dict() # use this if you want a dictionary as an output"
   ]
  },
  {
   "cell_type": "code",
   "execution_count": 10,
   "metadata": {},
   "outputs": [],
   "source": [
    "pickle.dump(new_search, open('pickles/search_result.pkl','wb'))"
   ]
  },
  {
   "cell_type": "code",
   "execution_count": 11,
   "metadata": {},
   "outputs": [],
   "source": [
    "search_result = pickle.load(open('pickles/search_result.pkl', 'rb'))"
   ]
  },
  {
   "cell_type": "code",
   "execution_count": 12,
   "metadata": {},
   "outputs": [
    {
     "data": {
      "text/plain": [
       "{'0140293248': {'isbn_index': 18466,\n",
       "  'book_title': \"The Girls' Guide to Hunting and Fishing\",\n",
       "  'book_author': 'Melissa Bank',\n",
       "  'year_of_publication': 2000,\n",
       "  'publisher': 'Penguin Books',\n",
       "  'mod_title': 'the girls guide to hunting and fishing',\n",
       "  'image_url_m': 'http://images.amazon.com/images/P/0140293248.01.MZZZZZZZ.jpg'},\n",
       " '0425188787': {'isbn_index': 83075,\n",
       "  'book_title': 'Hunting Season (Anna Pigeon Novels (Paperback))',\n",
       "  'book_author': 'Nevada Barr',\n",
       "  'year_of_publication': 2003,\n",
       "  'publisher': 'Berkley Publishing Group',\n",
       "  'mod_title': 'hunting season anna pigeon novels paperback',\n",
       "  'image_url_m': 'http://images.amazon.com/images/P/0425188787.01.MZZZZZZZ.jpg'},\n",
       " '067088300X': {'isbn_index': 132336,\n",
       "  'book_title': \"The Girls' Guide to Hunting and Fishing\",\n",
       "  'book_author': 'Melissa Bank',\n",
       "  'year_of_publication': 1999,\n",
       "  'publisher': 'Viking Books',\n",
       "  'mod_title': 'the girls guide to hunting and fishing',\n",
       "  'image_url_m': 'http://images.amazon.com/images/P/067088300X.01.MZZZZZZZ.jpg'},\n",
       " '0061097861': {'isbn_index': 10356,\n",
       "  'book_title': 'Hunting Badger (Joe Leaphorn/Jim Chee Novels)',\n",
       "  'book_author': 'Tony Hillerman',\n",
       "  'year_of_publication': 2000,\n",
       "  'publisher': 'HarperCollins',\n",
       "  'mod_title': 'hunting badger joe leaphornjim chee novels',\n",
       "  'image_url_m': 'http://images.amazon.com/images/P/0061097861.01.MZZZZZZZ.jpg'},\n",
       " '0399148639': {'isbn_index': 78479,\n",
       "  'book_title': 'Mortal Prey',\n",
       "  'book_author': 'John Sandford',\n",
       "  'year_of_publication': 2002,\n",
       "  'publisher': 'Putnam Publishing Group',\n",
       "  'mod_title': 'mortal prey',\n",
       "  'image_url_m': 'http://images.amazon.com/images/P/0399148639.01.MZZZZZZZ.jpg'}}"
      ]
     },
     "execution_count": 12,
     "metadata": {},
     "output_type": "execute_result"
    }
   ],
   "source": [
    "book_rec = search_result(\"hunting\",search_define)\n",
    "book_rec"
   ]
  },
  {
   "cell_type": "code",
   "execution_count": 13,
   "metadata": {},
   "outputs": [
    {
     "name": "stdout",
     "output_type": "stream",
     "text": [
      "{'isbn_index': 18466, 'book_title': \"The Girls' Guide to Hunting and Fishing\", 'book_author': 'Melissa Bank', 'year_of_publication': 2000, 'publisher': 'Penguin Books', 'mod_title': 'the girls guide to hunting and fishing', 'image_url_m': 'http://images.amazon.com/images/P/0140293248.01.MZZZZZZZ.jpg'}\n",
      "{'isbn_index': 83075, 'book_title': 'Hunting Season (Anna Pigeon Novels (Paperback))', 'book_author': 'Nevada Barr', 'year_of_publication': 2003, 'publisher': 'Berkley Publishing Group', 'mod_title': 'hunting season anna pigeon novels paperback', 'image_url_m': 'http://images.amazon.com/images/P/0425188787.01.MZZZZZZZ.jpg'}\n",
      "{'isbn_index': 132336, 'book_title': \"The Girls' Guide to Hunting and Fishing\", 'book_author': 'Melissa Bank', 'year_of_publication': 1999, 'publisher': 'Viking Books', 'mod_title': 'the girls guide to hunting and fishing', 'image_url_m': 'http://images.amazon.com/images/P/067088300X.01.MZZZZZZZ.jpg'}\n",
      "{'isbn_index': 10356, 'book_title': 'Hunting Badger (Joe Leaphorn/Jim Chee Novels)', 'book_author': 'Tony Hillerman', 'year_of_publication': 2000, 'publisher': 'HarperCollins', 'mod_title': 'hunting badger joe leaphornjim chee novels', 'image_url_m': 'http://images.amazon.com/images/P/0061097861.01.MZZZZZZZ.jpg'}\n",
      "{'isbn_index': 78479, 'book_title': 'Mortal Prey', 'book_author': 'John Sandford', 'year_of_publication': 2002, 'publisher': 'Putnam Publishing Group', 'mod_title': 'mortal prey', 'image_url_m': 'http://images.amazon.com/images/P/0399148639.01.MZZZZZZZ.jpg'}\n"
     ]
    }
   ],
   "source": [
    "for i in book_rec:\n",
    "    print(book_rec[i])"
   ]
  },
  {
   "cell_type": "code",
   "execution_count": null,
   "metadata": {},
   "outputs": [],
   "source": []
  }
 ],
 "metadata": {
  "kernelspec": {
   "display_name": "Python 3.9.12 (conda)",
   "language": "python",
   "name": "python3"
  },
  "language_info": {
   "codemirror_mode": {
    "name": "ipython",
    "version": 3
   },
   "file_extension": ".py",
   "mimetype": "text/x-python",
   "name": "python",
   "nbconvert_exporter": "python",
   "pygments_lexer": "ipython3",
   "version": "3.9.13"
  },
  "orig_nbformat": 4,
  "vscode": {
   "interpreter": {
    "hash": "8be38c2fbad19d017fc2c247730dbb4a9fae72c596c13558eb6beecdc61a8996"
   }
  }
 },
 "nbformat": 4,
 "nbformat_minor": 2
}
